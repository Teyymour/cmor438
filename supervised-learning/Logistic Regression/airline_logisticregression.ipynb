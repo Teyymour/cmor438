{
 "cells": [
  {
   "cell_type": "markdown",
   "id": "4758ab9d",
   "metadata": {},
   "source": [
    "# Logistic Regression for Flight-Class Prediction\n",
    "\n",
    "Before we dive in, let’s briefly recap **how Logistic Regression works** and why it’s appropriate for a multiclass ticket-class problem.\n",
    "\n",
    "---\n",
    "\n",
    "## Logistic Regression “Behind the Mask”\n",
    "\n",
    "A logistic regression model predicts class probabilities by passing a weighted sum of inputs through a **sigmoid** (logistic) function:\n",
    "\n",
    "\\[\n",
    "\\sigma(z)\\;=\\;\\frac{1}{1 + e^{-z}}\n",
    "\\]\n",
    "\n",
    "where \\(z = \\theta^T x\\).  For a multiclass (“softmax”) version, we compute one linear score per class and normalize via:\n",
    "\n",
    "\\[\n",
    "P(y=k\\mid x) = \\frac{\\exp(\\theta_k^T x)}{\\sum_j \\exp(\\theta_j^T x)}.\n",
    "\\]\n",
    "\n",
    "Rather than minimizing squared errors (OLS), logistic uses **Maximum Likelihood Estimation (MLE)** to find the best \\(\\theta\\).\n",
    "\n",
    "---\n",
    "\n",
    "## Task\n",
    "\n",
    "In this notebook we will:\n",
    "\n",
    "1. Load our **cleaned airfare** dataset  \n",
    "2. Preprocess numeric and categorical features  \n",
    "3. Resample rare classes with **SMOTE**  \n",
    "4. Train a **multinomial** `LogisticRegression`  \n",
    "5. Evaluate via **classification report** and **confusion matrix**\n",
    "\n",
    "---\n",
    "\n",
    "\n"
   ]
  },
  {
   "cell_type": "code",
   "execution_count": 2,
   "id": "4591797d",
   "metadata": {},
   "outputs": [],
   "source": [
    "## 1 Setup\n",
    "\n",
    "# standard imports\n",
    "import pandas as pd\n",
    "import numpy as np\n",
    "import matplotlib.pyplot as plt\n",
    "import seaborn as sns\n",
    "\n",
    "# sklearn + imblearn pipeline & utilities\n",
    "from sklearn.model_selection     import train_test_split\n",
    "from sklearn.compose             import ColumnTransformer\n",
    "from sklearn.preprocessing       import OneHotEncoder, StandardScaler\n",
    "from imblearn.pipeline           import Pipeline as ImbPipeline\n",
    "from imblearn.over_sampling      import SMOTE\n",
    "from sklearn.linear_model        import LogisticRegression\n",
    "from sklearn.metrics             import classification_report, confusion_matrix\n",
    "\n",
    "sns.set_style(\"whitegrid\")\n",
    "%matplotlib inline"
   ]
  },
  {
   "cell_type": "code",
   "execution_count": 3,
   "id": "b3222e6d",
   "metadata": {},
   "outputs": [
    {
     "data": {
      "text/plain": [
       "Class\n",
       "Economy            252033\n",
       "Business           126834\n",
       "Premium Economy     73077\n",
       "First                 144\n",
       "Name: count, dtype: int64"
      ]
     },
     "execution_count": 3,
     "metadata": {},
     "output_type": "execute_result"
    }
   ],
   "source": [
    "## 2 Load & Inspect Data\n",
    "\n",
    "df = pd.read_csv(\n",
    "    r\"C:\\Users\\jbats\\Projects\\cmor438\\supervised-learning\\Logistic Regression\\Cleaned_dataset.csv\"\n",
    ")\n",
    "df.head()\n",
    "\n",
    "df[\"Class\"].value_counts()\n",
    "\n"
   ]
  },
  {
   "cell_type": "code",
   "execution_count": 5,
   "id": "8ac47eb8",
   "metadata": {},
   "outputs": [],
   "source": [
    "## 3 Define Features & Target\n",
    "\n",
    "X = df.drop(columns=[\"Flight_code\", \"Class\"])\n",
    "y = df[\"Class\"]\n",
    "\n",
    "numeric_cols = [\"Duration_in_hours\", \"Days_left\", \"Fare\"]\n",
    "categorical_cols = [\n",
    "    \"Journey_day\", \"Airline\", \"Source\",\n",
    "    \"Departure\", \"Total_stops\", \"Arrival\", \"Destination\"\n",
    "]"
   ]
  },
  {
   "cell_type": "code",
   "execution_count": 6,
   "id": "1c90c54c",
   "metadata": {},
   "outputs": [],
   "source": [
    "## 4 Preprocessing, SMOTE, Model Pipeline\n",
    "\n",
    "preprocessor = ColumnTransformer([\n",
    "    (\"num\", StandardScaler(), numeric_cols),\n",
    "    (\"cat\", OneHotEncoder(drop=\"first\", sparse_output=False), categorical_cols)\n",
    "])\n",
    "\n",
    "clf = ImbPipeline([\n",
    "    (\"pre\",   preprocessor),\n",
    "    (\"smote\", SMOTE(random_state=42)),\n",
    "    (\"lr\",    LogisticRegression(\n",
    "        multi_class=\"multinomial\",\n",
    "        solver=\"saga\",\n",
    "        class_weight=\"balanced\",\n",
    "        max_iter=1000,\n",
    "        verbose=0\n",
    "    ))\n",
    "])\n"
   ]
  },
  {
   "cell_type": "code",
   "execution_count": 7,
   "id": "5a0f0a2d",
   "metadata": {},
   "outputs": [],
   "source": [
    "## 5 Train/Test Split\n",
    "\n",
    "X_train, X_test, y_train, y_test = train_test_split(\n",
    "    X, y,\n",
    "    test_size=0.2,\n",
    "    random_state=42,\n",
    "    stratify=y\n",
    ")\n"
   ]
  },
  {
   "cell_type": "code",
   "execution_count": 8,
   "id": "714401b3",
   "metadata": {},
   "outputs": [
    {
     "name": "stderr",
     "output_type": "stream",
     "text": [
      "c:\\Users\\jbats\\AppData\\Local\\Programs\\Python\\Python313\\Lib\\site-packages\\sklearn\\linear_model\\_logistic.py:1247: FutureWarning: 'multi_class' was deprecated in version 1.5 and will be removed in 1.7. From then on, it will always use 'multinomial'. Leave it to its default value to avoid this warning.\n",
      "  warnings.warn(\n"
     ]
    }
   ],
   "source": [
    "## 6 Fit and Predict\n",
    "\n",
    "clf.fit(X_train, y_train)\n",
    "y_pred = clf.predict(X_test)\n"
   ]
  },
  {
   "cell_type": "code",
   "execution_count": 9,
   "id": "69b2ad1c",
   "metadata": {},
   "outputs": [
    {
     "name": "stdout",
     "output_type": "stream",
     "text": [
      "                 precision    recall  f1-score   support\n",
      "\n",
      "       Business       0.99      0.98      0.99     25367\n",
      "        Economy       0.98      0.78      0.87     50407\n",
      "          First       0.91      1.00      0.95        29\n",
      "Premium Economy       0.55      0.93      0.69     14615\n",
      "\n",
      "       accuracy                           0.86     90418\n",
      "      macro avg       0.86      0.92      0.87     90418\n",
      "   weighted avg       0.91      0.86      0.87     90418\n",
      "\n"
     ]
    },
    {
     "data": {
      "image/png": "[encoded data removed]",
      "text/plain": [
       "<Figure size 600x500 with 2 Axes>"
      ]
     },
     "metadata": {},
     "output_type": "display_data"
    }
   ],
   "source": [
    "## 7 Eval and Confusion Matrix\n",
    "print(classification_report(y_test, y_pred))\n",
    "cm = confusion_matrix(y_test, y_pred, labels=clf.classes_)\n",
    "plt.figure(figsize=(6,5))\n",
    "sns.heatmap(cm, annot=True, fmt=\"d\",\n",
    "            xticklabels=clf.classes_,\n",
    "            yticklabels=clf.classes_,\n",
    "            cmap=\"Blues\")\n",
    "plt.title(\"Confusion Matrix\")\n",
    "plt.xlabel(\"Predicted\")\n",
    "plt.ylabel(\"Actual\")\n",
    "plt.tight_layout()\n",
    "plt.show()\n"
   ]
  },
  {
   "cell_type": "code",
   "execution_count": 11,
   "id": "26b01498",
   "metadata": {},
   "outputs": [
    {
     "name": "stdout",
     "output_type": "stream",
     "text": [
      "\n",
      "Top 3 important for class = 'Business':\n",
      "             feature      coef\n",
      "2               Fare  4.113116\n",
      "13    Airline_Indigo -3.345749\n",
      "12  Airline_GO FIRST -3.330236\n",
      "\n",
      "Top 3 important for class = 'Economy':\n",
      "                 feature       coef\n",
      "2                   Fare -11.469537\n",
      "27  Total_stops_non-stop  -8.756067\n",
      "13        Airline_Indigo   3.408395\n",
      "\n",
      "Top 3 important for class = 'First':\n",
      "                 feature       coef\n",
      "27  Total_stops_non-stop  14.520055\n",
      "2                   Fare  12.178644\n",
      "16       Airline_Vistara -11.647049\n",
      "\n",
      "Top 3 important for class = 'Premium Economy':\n",
      "                 feature       coef\n",
      "16       Airline_Vistara  10.406791\n",
      "27  Total_stops_non-stop  -6.176547\n",
      "2                   Fare  -4.822223\n"
     ]
    }
   ],
   "source": [
    "# 1) Grab the fitted logistic step\n",
    "lr = clf.named_steps[\"lr\"]\n",
    "\n",
    "# 2) Build the full feature‐name list in the same order as your ColumnTransformer\n",
    "num_feats = numeric_cols\n",
    "cat_feats = clf.named_steps[\"pre\"] \\\n",
    "              .named_transformers_[\"cat\"] \\\n",
    "              .get_feature_names_out(categorical_cols) \\\n",
    "              .tolist()\n",
    "all_feats = num_feats + cat_feats\n",
    "\n",
    "# 3) Coefficients for each class (shape = [n_classes, n_features])\n",
    "coefs = lr.coef_\n",
    "\n",
    "# 4) For a *binary* model you'd do:\n",
    "#    coef_vals = coefs[0]\n",
    "#    df_imp = pd.DataFrame({\n",
    "#      \"feature\": all_feats,\n",
    "#      \"coef\":    coef_vals\n",
    "#    })\n",
    "#    df_imp[\"abs_coef\"] = df_imp[\"coef\"].abs()\n",
    "#    print(df_imp.sort_values(\"abs_coef\", ascending=False).head(10))\n",
    "\n",
    "# 5) In your *multiclass* case, you can inspect one class at a time:\n",
    "for cls, coef_vals in zip(lr.classes_, coefs):\n",
    "    df_imp = pd.DataFrame({\n",
    "      \"feature\": all_feats,\n",
    "      \"coef\":    coef_vals\n",
    "    })\n",
    "    df_imp[\"abs_coef\"] = df_imp[\"coef\"].abs()\n",
    "    print(f\"\\nTop 3 important for class = {cls!r}:\")\n",
    "    print(df_imp.sort_values(\"abs_coef\", ascending=False)\n",
    "                 .head(3)\n",
    "                 .loc[:, [\"feature\",\"coef\"]])"
   ]
  },
  {
   "cell_type": "markdown",
   "id": "7eb6fda0",
   "metadata": {},
   "source": [
    "## 8 Next Steps\n",
    "\n",
    "1. **Feature engineering around “Fare” and “Stops”**  \n",
    "   - One trend I am seeing is that the two biggest features that cause flight price consistantly except for Premium economy are Fare and Total_stops_non-stop. I will create derived features such as:  \n",
    "     - **Fare per stop**: `Fare / (Total_stops + 1)`  \n",
    "     - **Fare × Miles flown** to capture long-haul premium pricing  \n",
    "   - Then I’ll evaluate whether these help better separate Economy, Premium Economy, and First.\n",
    "\n",
    "2. **Airline-specific modeling**  \n",
    "   - Since `Airline_Indigo` and `Airline_Vistara` were highly predictive, I will:  \n",
    "     - Train **per-airline submodels** for the top carriers  \n",
    "     - Add **interaction terms** between `Airline` and `Fare` or `Stops` to capture route-specific pricing effects\n"
   ]
  }
 ],
 "metadata": {
  "kernelspec": {
   "display_name": "Python 3",
   "language": "python",
   "name": "python3"
  },
  "language_info": {
   "codemirror_mode": {
    "name": "ipython",
    "version": 3
   },
   "file_extension": ".py",
   "mimetype": "text/x-python",
   "name": "python",
   "nbconvert_exporter": "python",
   "pygments_lexer": "ipython3",
   "version": "3.13.3"
  }
 },
 "nbformat": 4,
 "nbformat_minor": 5
}
