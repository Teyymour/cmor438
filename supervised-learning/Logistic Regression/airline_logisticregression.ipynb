{
 "cells": [
  {
   "cell_type": "markdown",
   "id": "4758ab9d",
   "metadata": {},
   "source": [
    "# Logistic Regression for Flight-Class Prediction\n",
    "\n",
    "Before we dive in, let’s briefly recap **how Logistic Regression works** and why it’s appropriate for a multiclass ticket-class problem.\n",
    "\n",
    "---\n",
    "\n",
    "## Logistic Regression “Behind the Mask”\n",
    "\n",
    "A logistic regression model predicts class probabilities by passing a weighted sum of inputs through a **sigmoid** (logistic) function:\n",
    "\n",
    "\\[\n",
    "\\sigma(z)\\;=\\;\\frac{1}{1 + e^{-z}}\n",
    "\\]\n",
    "\n",
    "where \\(z = \\theta^T x\\).  For a multiclass (“softmax”) version, we compute one linear score per class and normalize via:\n",
    "\n",
    "\\[\n",
    "P(y=k\\mid x) = \\frac{\\exp(\\theta_k^T x)}{\\sum_j \\exp(\\theta_j^T x)}.\n",
    "\\]\n",
    "\n",
    "Rather than minimizing squared errors (OLS), logistic uses **Maximum Likelihood Estimation (MLE)** to find the best \\(\\theta\\).\n",
    "\n",
    "---\n",
    "\n",
    "## Task\n",
    "\n",
    "In this notebook we will:\n",
    "\n",
    "1. Load our **cleaned airfare** dataset  \n",
    "2. Preprocess numeric and categorical features  \n",
    "3. Resample rare classes with **SMOTE**  \n",
    "4. Train a **multinomial** `LogisticRegression`  \n",
    "5. Evaluate via **classification report** and **confusion matrix**\n",
    "\n",
    "---\n",
    "\n",
    "\n"
   ]
  },
  {
   "cell_type": "code",
   "execution_count": 2,
   "id": "4591797d",
   "metadata": {},
   "outputs": [],
   "source": [
    "## 1 Setup\n",
    "\n",
    "# standard imports\n",
    "import pandas as pd\n",
    "import numpy as np\n",
    "import matplotlib.pyplot as plt\n",
    "import seaborn as sns\n",
    "\n",
    "# sklearn + imblearn pipeline & utilities\n",
    "from sklearn.model_selection     import train_test_split\n",
    "from sklearn.compose             import ColumnTransformer\n",
    "from sklearn.preprocessing       import OneHotEncoder, StandardScaler\n",
    "from imblearn.pipeline           import Pipeline as ImbPipeline\n",
    "from imblearn.over_sampling      import SMOTE\n",
    "from sklearn.linear_model        import LogisticRegression\n",
    "from sklearn.metrics             import classification_report, confusion_matrix\n",
    "\n",
    "sns.set_style(\"whitegrid\")\n",
    "%matplotlib inline"
   ]
  },
  {
   "cell_type": "code",
   "execution_count": 3,
   "id": "b3222e6d",
   "metadata": {},
   "outputs": [
    {
     "data": {
      "text/plain": [
       "Class\n",
       "Economy            252033\n",
       "Business           126834\n",
       "Premium Economy     73077\n",
       "First                 144\n",
       "Name: count, dtype: int64"
      ]
     },
     "execution_count": 3,
     "metadata": {},
     "output_type": "execute_result"
    }
   ],
   "source": [
    "## 2 Load & Inspect Data\n",
    "\n",
    "df = pd.read_csv(\n",
    "    r\"C:\\Users\\jbats\\Projects\\cmor438\\supervised-learning\\Logistic Regression\\Cleaned_dataset.csv\"\n",
    ")\n",
    "df.head()\n",
    "\n",
    "df[\"Class\"].value_counts()\n",
    "\n"
   ]
  },
  {
   "cell_type": "code",
   "execution_count": 5,
   "id": "8ac47eb8",
   "metadata": {},
   "outputs": [],
   "source": [
    "## 3 Define Features & Target\n",
    "\n",
    "X = df.drop(columns=[\"Flight_code\", \"Class\"])\n",
    "y = df[\"Class\"]\n",
    "\n",
    "numeric_cols = [\"Duration_in_hours\", \"Days_left\", \"Fare\"]\n",
    "categorical_cols = [\n",
    "    \"Journey_day\", \"Airline\", \"Source\",\n",
    "    \"Departure\", \"Total_stops\", \"Arrival\", \"Destination\"\n",
    "]"
   ]
  },
  {
   "cell_type": "code",
   "execution_count": 6,
   "id": "1c90c54c",
   "metadata": {},
   "outputs": [],
   "source": [
    "## 4 Preprocessing, SMOTE, Model Pipeline\n",
    "\n",
    "preprocessor = ColumnTransformer([\n",
    "    (\"num\", StandardScaler(), numeric_cols),\n",
    "    (\"cat\", OneHotEncoder(drop=\"first\", sparse_output=False), categorical_cols)\n",
    "])\n",
    "\n",
    "clf = ImbPipeline([\n",
    "    (\"pre\",   preprocessor),\n",
    "    (\"smote\", SMOTE(random_state=42)),\n",
    "    (\"lr\",    LogisticRegression(\n",
    "        multi_class=\"multinomial\",\n",
    "        solver=\"saga\",\n",
    "        class_weight=\"balanced\",\n",
    "        max_iter=1000,\n",
    "        verbose=0\n",
    "    ))\n",
    "])\n"
   ]
  },
  {
   "cell_type": "code",
   "execution_count": 7,
   "id": "5a0f0a2d",
   "metadata": {},
   "outputs": [],
   "source": [
    "## 5 Train/Test Split\n",
    "\n",
    "X_train, X_test, y_train, y_test = train_test_split(\n",
    "    X, y,\n",
    "    test_size=0.2,\n",
    "    random_state=42,\n",
    "    stratify=y\n",
    ")\n"
   ]
  },
  {
   "cell_type": "code",
   "execution_count": null,
   "id": "714401b3",
   "metadata": {},
   "outputs": [],
   "source": [
    "## 6 Fit and Predict\n",
    "\n",
    "clf.fit(X_train, y_train)\n",
    "y_pred = clf.predict(X_test)\n"
   ]
  },
  {
   "cell_type": "code",
   "execution_count": null,
   "id": "69b2ad1c",
   "metadata": {},
   "outputs": [],
   "source": [
    "## 7 Eval and Confusion Matrix\n",
    "print(classification_report(y_test, y_pred))\n",
    "cm = confusion_matrix(y_test, y_pred, labels=clf.classes_)\n",
    "plt.figure(figsize=(6,5))\n",
    "sns.heatmap(cm, annot=True, fmt=\"d\",\n",
    "            xticklabels=clf.classes_,\n",
    "            yticklabels=clf.classes_,\n",
    "            cmap=\"Blues\")\n",
    "plt.title(\"Confusion Matrix\")\n",
    "plt.xlabel(\"Predicted\")\n",
    "plt.ylabel(\"Actual\")\n",
    "plt.tight_layout()\n",
    "plt.show()\n"
   ]
  },
  {
   "cell_type": "markdown",
   "id": "7eb6fda0",
   "metadata": {},
   "source": [
    "## 8 Next Steps\n",
    "\n",
    "Experiment with different SMOTE parameters (sampling_strategy, k_neighbors)\n",
    "\n",
    "Tune C and penalty in LogisticRegression via GridSearchCV\n",
    "\n",
    "Add interaction or time-of-day features to boost Premium Economy recall\n",
    "\n"
   ]
  }
 ],
 "metadata": {
  "kernelspec": {
   "display_name": "Python 3",
   "language": "python",
   "name": "python3"
  },
  "language_info": {
   "codemirror_mode": {
    "name": "ipython",
    "version": 3
   },
   "file_extension": ".py",
   "mimetype": "text/x-python",
   "name": "python",
   "nbconvert_exporter": "python",
   "pygments_lexer": "ipython3",
   "version": "3.13.3"
  }
 },
 "nbformat": 4,
 "nbformat_minor": 5
}
